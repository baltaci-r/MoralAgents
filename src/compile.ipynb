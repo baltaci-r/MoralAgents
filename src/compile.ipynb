{
 "cells": [
  {
   "cell_type": "code",
   "execution_count": 1,
   "metadata": {},
   "outputs": [],
   "source": [
    "import re\n",
    "import pandas as pd\n",
    "from glob import glob\n",
    "from tqdm import tqdm"
   ]
  },
  {
   "cell_type": "markdown",
   "metadata": {},
   "source": [
    "# Dataset:"
   ]
  },
  {
   "cell_type": "code",
   "execution_count": 2,
   "metadata": {},
   "outputs": [
    {
     "data": {
      "text/html": [
       "<div>\n",
       "<style scoped>\n",
       "    .dataframe tbody tr th:only-of-type {\n",
       "        vertical-align: middle;\n",
       "    }\n",
       "\n",
       "    .dataframe tbody tr th {\n",
       "        vertical-align: top;\n",
       "    }\n",
       "\n",
       "    .dataframe thead th {\n",
       "        text-align: right;\n",
       "    }\n",
       "</style>\n",
       "<table border=\"1\" class=\"dataframe\">\n",
       "  <thead>\n",
       "    <tr style=\"text-align: right;\">\n",
       "      <th></th>\n",
       "      <th>index</th>\n",
       "      <th>type</th>\n",
       "      <th>scenario</th>\n",
       "      <th>subject</th>\n",
       "      <th>dataset</th>\n",
       "      <th>name</th>\n",
       "      <th>violation</th>\n",
       "    </tr>\n",
       "  </thead>\n",
       "  <tbody>\n",
       "    <tr>\n",
       "      <th>0</th>\n",
       "      <td>1</td>\n",
       "      <td>action</td>\n",
       "      <td>Emilia is negotiating with a powerful and dete...</td>\n",
       "      <td>Emilia’s</td>\n",
       "      <td>keshmirian</td>\n",
       "      <td>NaN</td>\n",
       "      <td>NaN</td>\n",
       "    </tr>\n",
       "    <tr>\n",
       "      <th>1</th>\n",
       "      <td>2</td>\n",
       "      <td>action</td>\n",
       "      <td>Azzo is the captain of a military submarine tr...</td>\n",
       "      <td>Azzo’s</td>\n",
       "      <td>keshmirian</td>\n",
       "      <td>NaN</td>\n",
       "      <td>NaN</td>\n",
       "    </tr>\n",
       "    <tr>\n",
       "      <th>2</th>\n",
       "      <td>3</td>\n",
       "      <td>action</td>\n",
       "      <td>Ann is the late-nightwatch nurse in a hospital...</td>\n",
       "      <td>Anna’s</td>\n",
       "      <td>keshmirian</td>\n",
       "      <td>NaN</td>\n",
       "      <td>NaN</td>\n",
       "    </tr>\n",
       "    <tr>\n",
       "      <th>3</th>\n",
       "      <td>4</td>\n",
       "      <td>action</td>\n",
       "      <td>A runaway trolley is heading down the tracks t...</td>\n",
       "      <td>Friedrich’s</td>\n",
       "      <td>keshmirian</td>\n",
       "      <td>NaN</td>\n",
       "      <td>NaN</td>\n",
       "    </tr>\n",
       "    <tr>\n",
       "      <th>4</th>\n",
       "      <td>5</td>\n",
       "      <td>action</td>\n",
       "      <td>Alex is the leader of a small group of soldier...</td>\n",
       "      <td>Alex’s</td>\n",
       "      <td>keshmirian</td>\n",
       "      <td>NaN</td>\n",
       "      <td>NaN</td>\n",
       "    </tr>\n",
       "    <tr>\n",
       "      <th>...</th>\n",
       "      <td>...</td>\n",
       "      <td>...</td>\n",
       "      <td>...</td>\n",
       "      <td>...</td>\n",
       "      <td>...</td>\n",
       "      <td>...</td>\n",
       "      <td>...</td>\n",
       "    </tr>\n",
       "    <tr>\n",
       "      <th>19</th>\n",
       "      <td>20</td>\n",
       "      <td>d6acinc</td>\n",
       "      <td>You are a doctor in an area that suffers from ...</td>\n",
       "      <td>your</td>\n",
       "      <td>cni</td>\n",
       "      <td>N/A</td>\n",
       "      <td>NaN</td>\n",
       "    </tr>\n",
       "    <tr>\n",
       "      <th>20</th>\n",
       "      <td>21</td>\n",
       "      <td>d3acinc</td>\n",
       "      <td>You are a member of a special police departmen...</td>\n",
       "      <td>your</td>\n",
       "      <td>cni</td>\n",
       "      <td>N/A</td>\n",
       "      <td>NaN</td>\n",
       "    </tr>\n",
       "    <tr>\n",
       "      <th>21</th>\n",
       "      <td>22</td>\n",
       "      <td>d4ininc</td>\n",
       "      <td>You are a doctor and are treating a seriously ...</td>\n",
       "      <td>your</td>\n",
       "      <td>cni</td>\n",
       "      <td>N/A</td>\n",
       "      <td>NaN</td>\n",
       "    </tr>\n",
       "    <tr>\n",
       "      <th>22</th>\n",
       "      <td>23</td>\n",
       "      <td>d5incon</td>\n",
       "      <td>You are the director of a hospital in a develo...</td>\n",
       "      <td>your</td>\n",
       "      <td>cni</td>\n",
       "      <td>N/A</td>\n",
       "      <td>NaN</td>\n",
       "    </tr>\n",
       "    <tr>\n",
       "      <th>23</th>\n",
       "      <td>24</td>\n",
       "      <td>d1accon</td>\n",
       "      <td>You are the president of your country. A gueri...</td>\n",
       "      <td>your</td>\n",
       "      <td>cni</td>\n",
       "      <td>N/A</td>\n",
       "      <td>NaN</td>\n",
       "    </tr>\n",
       "  </tbody>\n",
       "</table>\n",
       "<p>151 rows × 7 columns</p>\n",
       "</div>"
      ],
      "text/plain": [
       "    index     type                                           scenario  \\\n",
       "0       1   action  Emilia is negotiating with a powerful and dete...   \n",
       "1       2   action  Azzo is the captain of a military submarine tr...   \n",
       "2       3   action  Ann is the late-nightwatch nurse in a hospital...   \n",
       "3       4   action  A runaway trolley is heading down the tracks t...   \n",
       "4       5   action  Alex is the leader of a small group of soldier...   \n",
       "..    ...      ...                                                ...   \n",
       "19     20  d6acinc  You are a doctor in an area that suffers from ...   \n",
       "20     21  d3acinc  You are a member of a special police departmen...   \n",
       "21     22  d4ininc  You are a doctor and are treating a seriously ...   \n",
       "22     23  d5incon  You are the director of a hospital in a develo...   \n",
       "23     24  d1accon  You are the president of your country. A gueri...   \n",
       "\n",
       "        subject     dataset name violation  \n",
       "0      Emilia’s  keshmirian  NaN       NaN  \n",
       "1        Azzo’s  keshmirian  NaN       NaN  \n",
       "2        Anna’s  keshmirian  NaN       NaN  \n",
       "3   Friedrich’s  keshmirian  NaN       NaN  \n",
       "4        Alex’s  keshmirian  NaN       NaN  \n",
       "..          ...         ...  ...       ...  \n",
       "19         your         cni  N/A       NaN  \n",
       "20         your         cni  N/A       NaN  \n",
       "21         your         cni  N/A       NaN  \n",
       "22         your         cni  N/A       NaN  \n",
       "23         your         cni  N/A       NaN  \n",
       "\n",
       "[151 rows x 7 columns]"
      ]
     },
     "execution_count": 2,
     "metadata": {},
     "output_type": "execute_result"
    }
   ],
   "source": [
    "datasets_ = []\n",
    "for dataset in ['keshmirian', 'greene', 'korner', 'oxford_utilitarianism_scale', 'cni']:\n",
    "    df = pd.read_json(f'data/{dataset}/data.json')\n",
    "    df['dataset'] = dataset\n",
    "    datasets_.append(df)\n",
    "\n",
    "datasets_info = pd.concat(datasets_)\n",
    "datasets_info"
   ]
  },
  {
   "cell_type": "code",
   "execution_count": 3,
   "metadata": {},
   "outputs": [],
   "source": [
    "NUM_ROUNDS = 6"
   ]
  },
  {
   "cell_type": "markdown",
   "metadata": {},
   "source": [
    "# Single Agent:"
   ]
  },
  {
   "cell_type": "code",
   "execution_count": 4,
   "metadata": {},
   "outputs": [],
   "source": [
    "def get_files(group_size, nob=False):\n",
    "  if nob:\n",
    "      files = glob(fr'runs/*/*/{group_size}n/*.jsonl')\n",
    "  else:\n",
    "      files = glob(fr'runs/*/*/{group_size}/*.jsonl')\n",
    "\n",
    "  data = []\n",
    "  for file in tqdm(files):\n",
    "    try:\n",
    "      match = re.match('runs/(.*)/(.*)/(.*)/(.*)_ob(.*)_(.*).jsonl', file)\n",
    "      dataset = match.group(1)\n",
    "      model = match.group(2)\n",
    "      #   group_size_ = match.group(3).strip('n')\n",
    "      example_index = match.group(4)\n",
    "      ob = match.group(5)\n",
    "      rep = match.group(6)\n",
    "\n",
    "      df = pd.read_json(file, lines=True)\n",
    "      df = df[[col for col in df.columns]]\n",
    "      df['dataset'] = dataset\n",
    "      df['model'] = model\n",
    "      df['group_size'] = group_size\n",
    "      df['example_index'] = int(example_index)\n",
    "      df['ob'] = ob\n",
    "      df['rep'] = int(rep)\n",
    "      df['step'] = -1  if group_size ==1 else df.index//group_size\n",
    "      data.append(df)\n",
    "    except Exception as e:\n",
    "      print(f\"Error reading file {file}: {e}\")\n",
    "\n",
    "  return pd.concat(data)"
   ]
  },
  {
   "cell_type": "code",
   "execution_count": 5,
   "metadata": {},
   "outputs": [
    {
     "name": "stderr",
     "output_type": "stream",
     "text": [
      "100%|██████████| 51912/51912 [02:33<00:00, 338.90it/s]\n"
     ]
    }
   ],
   "source": [
    "single = get_files(1, nob=True)"
   ]
  },
  {
   "cell_type": "code",
   "execution_count": 6,
   "metadata": {},
   "outputs": [
    {
     "name": "stdout",
     "output_type": "stream",
     "text": [
      "[SINGLE] Cleaning opinions ...\n"
     ]
    }
   ],
   "source": [
    "print('[SINGLE] Cleaning opinions ...')\n",
    "\n",
    "single_ = single.copy()\n",
    "patterns_to_remove = [\n",
    "    (r'\\(.*?\\)', '', True),\n",
    "    (r'\\s*\\([^)]*\\)', '', True),\n",
    "    (r'\\\\boxed\\{(\\d+)\\}', r'\\1', True),\n",
    "    ('**', '', False),\n",
    "    (' out of 7', '', False),\n",
    "    ('.out.of.', '', False),\n",
    "    ('=out=of=7', '', False), \n",
    "    ('\\tout\\tof\\t', '', False),\n",
    "    ('=', '', False),\n",
    "    ('/7', '', False),\n",
    "    ('/ 7', '', False),\n",
    "    (', 7', '', False),\n",
    "    ('\"', '', False),\n",
    "    (\"moral acceptability score:\", '', False),\n",
    "    (\"score:\", '', False),\n",
    "    (\"final answer\", '', False),\n",
    "    (\"final score: \", '', False), \n",
    "    (\"final rating: \", '', False),\n",
    "    (\"agreement rating: \", '', False),\n",
    "    (\"– mostly unacceptable.\", '', False),\n",
    "    (\"– completely unacceptable.\", '', False),\n",
    "    (\": completely unacceptable\", '', False),\n",
    "    (\"– somewhat morally unacceptable\", '', False),\n",
    "    (\"final rating:\", '', False),\n",
    "    (\"final answer\", '', False),\n",
    "    (\"- strongly disagree\", '', False),\n",
    "    (\"– strongly disagree\", '', False),\n",
    "    (\"– completely acceptable\", '', False),\n",
    "    (\"–completely acceptable\", '', False),\n",
    "    (\"—completely acceptable\", '', False),\n",
    "    (\"— completely unacceptable\", '', False),\n",
    "    (\"– completely unacceptable\", '', False),\n",
    "    (\"– somewhat morally acceptable\", '', False),\n",
    "    (\": strongly acceptable\", '', False),\n",
    "    (\"final agreement rating:\", '', False),\n",
    "    (\"score:\", '', False),\n",
    "    (\"– somewhat disagree\", '', False),\n",
    "    (\"– disagree\", '', False),\n",
    "    (\"- morally acceptable\", '', False),\n",
    "    (\"the answer is\", '', False),\n",
    "    (\"— strongly morally acceptable\", '', False)\n",
    "]\n",
    "\n",
    "single_['opinion'] = single_['opinion'].astype(str).str.lower()\n",
    "for pattern, repl, is_regex in patterns_to_remove:\n",
    "    single_['opinion'] = single_['opinion'].str.replace(pattern, repl, regex=is_regex)\n",
    "\n",
    "single_['opinion'] = single_['opinion'].str.strip().str.strip('.')"
   ]
  },
  {
   "cell_type": "code",
   "execution_count": null,
   "metadata": {},
   "outputs": [],
   "source": [
    "single_['opinion'].value_counts()"
   ]
  },
  {
   "cell_type": "code",
   "execution_count": 8,
   "metadata": {},
   "outputs": [],
   "source": [
    "single = single_"
   ]
  },
  {
   "cell_type": "code",
   "execution_count": 9,
   "metadata": {},
   "outputs": [],
   "source": [
    "single = single[~single['model'].isin(['gemma3', 'o4-mini'])]"
   ]
  },
  {
   "cell_type": "code",
   "execution_count": 10,
   "metadata": {},
   "outputs": [
    {
     "data": {
      "text/plain": [
       "array(['gemma3:27b', 'gpt-4.1', 'llama3.3', 'qwen2.5:32b-instruct',\n",
       "       'qwen3:32b', 'qwq'], dtype=object)"
      ]
     },
     "execution_count": 10,
     "metadata": {},
     "output_type": "execute_result"
    }
   ],
   "source": [
    "single['model'].unique()"
   ]
  },
  {
   "cell_type": "code",
   "execution_count": 11,
   "metadata": {},
   "outputs": [
    {
     "name": "stderr",
     "output_type": "stream",
     "text": [
      "/tmp/ipykernel_2674485/3183118866.py:1: SettingWithCopyWarning: \n",
      "A value is trying to be set on a copy of a slice from a DataFrame.\n",
      "Try using .loc[row_indexer,col_indexer] = value instead\n",
      "\n",
      "See the caveats in the documentation: https://pandas.pydata.org/pandas-docs/stable/user_guide/indexing.html#returning-a-view-versus-a-copy\n",
      "  single['type'] = single.apply(lambda x: datasets_info[(datasets_info['dataset'] == x['dataset']) & (datasets_info['index'] == x['example_index'])]['type'].values[0], axis=1)\n"
     ]
    }
   ],
   "source": [
    "single['type'] = single.apply(lambda x: datasets_info[(datasets_info['dataset'] == x['dataset']) & (datasets_info['index'] == x['example_index'])]['type'].values[0], axis=1)"
   ]
  },
  {
   "cell_type": "code",
   "execution_count": 12,
   "metadata": {},
   "outputs": [
    {
     "name": "stdout",
     "output_type": "stream",
     "text": [
      "[ SINGLE ]\n"
     ]
    },
    {
     "data": {
      "text/html": [
       "<div>\n",
       "<style scoped>\n",
       "    .dataframe tbody tr th:only-of-type {\n",
       "        vertical-align: middle;\n",
       "    }\n",
       "\n",
       "    .dataframe tbody tr th {\n",
       "        vertical-align: top;\n",
       "    }\n",
       "\n",
       "    .dataframe thead th {\n",
       "        text-align: right;\n",
       "    }\n",
       "</style>\n",
       "<table border=\"1\" class=\"dataframe\">\n",
       "  <thead>\n",
       "    <tr style=\"text-align: right;\">\n",
       "      <th>dataset</th>\n",
       "      <th>cni</th>\n",
       "      <th>greene</th>\n",
       "      <th>keshmirian</th>\n",
       "      <th>korner</th>\n",
       "      <th>oxford_utilitarianism_scale</th>\n",
       "    </tr>\n",
       "    <tr>\n",
       "      <th>model</th>\n",
       "      <th></th>\n",
       "      <th></th>\n",
       "      <th></th>\n",
       "      <th></th>\n",
       "      <th></th>\n",
       "    </tr>\n",
       "  </thead>\n",
       "  <tbody>\n",
       "    <tr>\n",
       "      <th>gemma3:27b</th>\n",
       "      <td>24</td>\n",
       "      <td>64</td>\n",
       "      <td>16</td>\n",
       "      <td>38</td>\n",
       "      <td>9</td>\n",
       "    </tr>\n",
       "    <tr>\n",
       "      <th>gpt-4.1</th>\n",
       "      <td>24</td>\n",
       "      <td>64</td>\n",
       "      <td>16</td>\n",
       "      <td>38</td>\n",
       "      <td>9</td>\n",
       "    </tr>\n",
       "    <tr>\n",
       "      <th>llama3.3</th>\n",
       "      <td>24</td>\n",
       "      <td>64</td>\n",
       "      <td>16</td>\n",
       "      <td>38</td>\n",
       "      <td>9</td>\n",
       "    </tr>\n",
       "    <tr>\n",
       "      <th>qwen2.5:32b-instruct</th>\n",
       "      <td>24</td>\n",
       "      <td>64</td>\n",
       "      <td>16</td>\n",
       "      <td>38</td>\n",
       "      <td>9</td>\n",
       "    </tr>\n",
       "    <tr>\n",
       "      <th>qwen3:32b</th>\n",
       "      <td>24</td>\n",
       "      <td>64</td>\n",
       "      <td>16</td>\n",
       "      <td>38</td>\n",
       "      <td>9</td>\n",
       "    </tr>\n",
       "    <tr>\n",
       "      <th>qwq</th>\n",
       "      <td>24</td>\n",
       "      <td>64</td>\n",
       "      <td>16</td>\n",
       "      <td>38</td>\n",
       "      <td>9</td>\n",
       "    </tr>\n",
       "  </tbody>\n",
       "</table>\n",
       "</div>"
      ],
      "text/plain": [
       "dataset               cni  greene  keshmirian  korner  \\\n",
       "model                                                   \n",
       "gemma3:27b             24      64          16      38   \n",
       "gpt-4.1                24      64          16      38   \n",
       "llama3.3               24      64          16      38   \n",
       "qwen2.5:32b-instruct   24      64          16      38   \n",
       "qwen3:32b              24      64          16      38   \n",
       "qwq                    24      64          16      38   \n",
       "\n",
       "dataset               oxford_utilitarianism_scale  \n",
       "model                                              \n",
       "gemma3:27b                                      9  \n",
       "gpt-4.1                                         9  \n",
       "llama3.3                                        9  \n",
       "qwen2.5:32b-instruct                            9  \n",
       "qwen3:32b                                       9  \n",
       "qwq                                             9  "
      ]
     },
     "metadata": {},
     "output_type": "display_data"
    }
   ],
   "source": [
    "print(\"[ SINGLE ]\")\n",
    "example_counts = single.groupby('dataset')['model'].value_counts().unstack(fill_value=0).sort_index(level='dataset') \n",
    "with pd.option_context('display.max_rows', None, 'display.max_columns', None):\n",
    "    display((example_counts/50).astype(int).T)"
   ]
  },
  {
   "cell_type": "markdown",
   "metadata": {},
   "source": [
    "# Dyadic Groups:"
   ]
  },
  {
   "cell_type": "code",
   "execution_count": 13,
   "metadata": {},
   "outputs": [
    {
     "name": "stderr",
     "output_type": "stream",
     "text": [
      "100%|██████████| 2820/2820 [00:08<00:00, 351.92it/s]\n"
     ]
    }
   ],
   "source": [
    "group_size_dyad = 2\n",
    "dyad = get_files(group_size_dyad, nob=True)"
   ]
  },
  {
   "cell_type": "code",
   "execution_count": 14,
   "metadata": {},
   "outputs": [],
   "source": [
    "num_replies_dyad = NUM_ROUNDS*group_size_dyad + 2*group_size_dyad"
   ]
  },
  {
   "cell_type": "code",
   "execution_count": 15,
   "metadata": {},
   "outputs": [
    {
     "name": "stdout",
     "output_type": "stream",
     "text": [
      "[DYAD] Cleaning opinions ...\n"
     ]
    }
   ],
   "source": [
    "print('[DYAD] Cleaning opinions ...')\n",
    "dyad_ = dyad.copy()\n",
    "patterns_to_remove = [\n",
    "    (r'\\(.*?\\)', '', True),\n",
    "    (r'\\s*\\([^)]*\\)', '', True),\n",
    "    (r'\\\\boxed\\{(\\d+)\\}', r'\\1', True),\n",
    "    ('**', '', False),\n",
    "    ('#', '', False),\n",
    "    ('```text', '', False),\n",
    "    ('```', '', False),\n",
    "    (' out of 7', '', False),\n",
    "    ('.out.of.', '', False),\n",
    "    ('=out=of=7', '', False),\n",
    "    ('\\tout\\tof\\t', '', False),\n",
    "    ('=', '', False),\n",
    "    ('/7', '', False),\n",
    "    ('/ 7', '', False),\n",
    "    (', 7', '', False),\n",
    "    ('\"', '', False),\n",
    "    (\"moral acceptability score:\", '', False),\n",
    "    (\"score:\", '', False),\n",
    "    (\"final answer\", '', False),\n",
    "    (\"final score: \", '', False),\n",
    "    (\"final rating: \", '', False),\n",
    "    (\"agreement rating: \", '', False),\n",
    "    (\"– mostly unacceptable.\", '', False),\n",
    "    (\"– completely unacceptable.\", '', False),\n",
    "    (\": completely unacceptable\", '', False),\n",
    "    (\"– somewhat morally unacceptable\", '', False),\n",
    "    (\"final rating:\", '', False),\n",
    "    (\"– strongly disagree\", '', False),\n",
    "    (\"- strongly disagree\", '', False),\n",
    "    (\"– completely acceptable\", '', False),\n",
    "    (\"–completely acceptable\", '', False),\n",
    "    (\"—completely acceptable\", '', False),\n",
    "    (\"— completely unacceptable\", '', False),\n",
    "    (\"– completely unacceptable\", '', False),\n",
    "    (\"- completely unacceptable\", '', False),\n",
    "    (\"final agreement rating:\", '', False)\n",
    "]\n",
    "\n",
    "dyad_['opinion'] = dyad_['opinion'].astype(str).str.lower()\n",
    "for pattern, repl, is_regex in patterns_to_remove:\n",
    "    dyad_['opinion'] = dyad_['opinion'].str.replace(pattern, repl, regex=is_regex)\n",
    "\n",
    "dyad_['opinion'] = dyad_['opinion'].str.strip().str.strip('.')"
   ]
  },
  {
   "cell_type": "code",
   "execution_count": null,
   "metadata": {},
   "outputs": [],
   "source": [
    "with pd.option_context('display.max_rows', None, 'display.max_columns', None):\n",
    "    nan_mask = dyad_['opinion'].isna()\n",
    "    conversion_mask = pd.to_numeric(dyad_['opinion'], errors='coerce').isna() & ~nan_mask\n",
    "    error_mask = conversion_mask\n",
    "    error_examples = dyad_[error_mask]\n",
    "    display(error_examples['opinion'].value_counts())"
   ]
  },
  {
   "cell_type": "code",
   "execution_count": 17,
   "metadata": {},
   "outputs": [],
   "source": [
    "dyad = dyad_"
   ]
  },
  {
   "cell_type": "code",
   "execution_count": 18,
   "metadata": {},
   "outputs": [],
   "source": [
    "dyad = dyad[~dyad['model'].isin(['gemma3', 'o4-mini'])]"
   ]
  },
  {
   "cell_type": "code",
   "execution_count": 19,
   "metadata": {},
   "outputs": [
    {
     "data": {
      "text/plain": [
       "array(['gemma3:27b', 'gpt-4.1', 'llama3.3', 'qwen2.5:32b-instruct',\n",
       "       'qwen3:32b', 'qwq'], dtype=object)"
      ]
     },
     "execution_count": 19,
     "metadata": {},
     "output_type": "execute_result"
    }
   ],
   "source": [
    "dyad['model'].unique()"
   ]
  },
  {
   "cell_type": "code",
   "execution_count": 20,
   "metadata": {},
   "outputs": [
    {
     "name": "stderr",
     "output_type": "stream",
     "text": [
      "/tmp/ipykernel_2674485/3497721238.py:1: SettingWithCopyWarning: \n",
      "A value is trying to be set on a copy of a slice from a DataFrame.\n",
      "Try using .loc[row_indexer,col_indexer] = value instead\n",
      "\n",
      "See the caveats in the documentation: https://pandas.pydata.org/pandas-docs/stable/user_guide/indexing.html#returning-a-view-versus-a-copy\n",
      "  dyad['type'] = dyad.apply(lambda x: datasets_info[(datasets_info['dataset'] == x['dataset']) & (datasets_info['index'] == x['example_index'])]['type'].values[0], axis=1)\n"
     ]
    }
   ],
   "source": [
    "dyad['type'] = dyad.apply(lambda x: datasets_info[(datasets_info['dataset'] == x['dataset']) & (datasets_info['index'] == x['example_index'])]['type'].values[0], axis=1)"
   ]
  },
  {
   "cell_type": "code",
   "execution_count": 21,
   "metadata": {},
   "outputs": [
    {
     "name": "stdout",
     "output_type": "stream",
     "text": [
      "[ DYAD ]\n"
     ]
    },
    {
     "data": {
      "text/html": [
       "<div>\n",
       "<style scoped>\n",
       "    .dataframe tbody tr th:only-of-type {\n",
       "        vertical-align: middle;\n",
       "    }\n",
       "\n",
       "    .dataframe tbody tr th {\n",
       "        vertical-align: top;\n",
       "    }\n",
       "\n",
       "    .dataframe thead th {\n",
       "        text-align: right;\n",
       "    }\n",
       "</style>\n",
       "<table border=\"1\" class=\"dataframe\">\n",
       "  <thead>\n",
       "    <tr style=\"text-align: right;\">\n",
       "      <th>dataset</th>\n",
       "      <th>cni</th>\n",
       "      <th>greene</th>\n",
       "      <th>keshmirian</th>\n",
       "      <th>korner</th>\n",
       "      <th>oxford_utilitarianism_scale</th>\n",
       "    </tr>\n",
       "    <tr>\n",
       "      <th>model</th>\n",
       "      <th></th>\n",
       "      <th></th>\n",
       "      <th></th>\n",
       "      <th></th>\n",
       "      <th></th>\n",
       "    </tr>\n",
       "  </thead>\n",
       "  <tbody>\n",
       "    <tr>\n",
       "      <th>gemma3:27b</th>\n",
       "      <td>24</td>\n",
       "      <td>64</td>\n",
       "      <td>16</td>\n",
       "      <td>38</td>\n",
       "      <td>9</td>\n",
       "    </tr>\n",
       "    <tr>\n",
       "      <th>gpt-4.1</th>\n",
       "      <td>24</td>\n",
       "      <td>64</td>\n",
       "      <td>16</td>\n",
       "      <td>38</td>\n",
       "      <td>9</td>\n",
       "    </tr>\n",
       "    <tr>\n",
       "      <th>llama3.3</th>\n",
       "      <td>24</td>\n",
       "      <td>64</td>\n",
       "      <td>16</td>\n",
       "      <td>38</td>\n",
       "      <td>9</td>\n",
       "    </tr>\n",
       "    <tr>\n",
       "      <th>qwen2.5:32b-instruct</th>\n",
       "      <td>24</td>\n",
       "      <td>64</td>\n",
       "      <td>16</td>\n",
       "      <td>38</td>\n",
       "      <td>9</td>\n",
       "    </tr>\n",
       "    <tr>\n",
       "      <th>qwen3:32b</th>\n",
       "      <td>24</td>\n",
       "      <td>64</td>\n",
       "      <td>16</td>\n",
       "      <td>38</td>\n",
       "      <td>9</td>\n",
       "    </tr>\n",
       "    <tr>\n",
       "      <th>qwq</th>\n",
       "      <td>24</td>\n",
       "      <td>64</td>\n",
       "      <td>16</td>\n",
       "      <td>38</td>\n",
       "      <td>9</td>\n",
       "    </tr>\n",
       "  </tbody>\n",
       "</table>\n",
       "</div>"
      ],
      "text/plain": [
       "dataset               cni  greene  keshmirian  korner  \\\n",
       "model                                                   \n",
       "gemma3:27b             24      64          16      38   \n",
       "gpt-4.1                24      64          16      38   \n",
       "llama3.3               24      64          16      38   \n",
       "qwen2.5:32b-instruct   24      64          16      38   \n",
       "qwen3:32b              24      64          16      38   \n",
       "qwq                    24      64          16      38   \n",
       "\n",
       "dataset               oxford_utilitarianism_scale  \n",
       "model                                              \n",
       "gemma3:27b                                      9  \n",
       "gpt-4.1                                         9  \n",
       "llama3.3                                        9  \n",
       "qwen2.5:32b-instruct                            9  \n",
       "qwen3:32b                                       9  \n",
       "qwq                                             9  "
      ]
     },
     "metadata": {},
     "output_type": "display_data"
    }
   ],
   "source": [
    "print(\"[ DYAD ]\")\n",
    "example_counts = dyad.groupby('dataset')['model'].value_counts().unstack(fill_value=0).sort_index(level='dataset') \n",
    "with pd.option_context('display.max_rows', None, 'display.max_columns', None):\n",
    "    display((example_counts/num_replies_dyad/3).astype(int).T)"
   ]
  },
  {
   "cell_type": "markdown",
   "metadata": {},
   "source": [
    "# Triad Groups"
   ]
  },
  {
   "cell_type": "code",
   "execution_count": 22,
   "metadata": {},
   "outputs": [
    {
     "name": "stderr",
     "output_type": "stream",
     "text": [
      "100%|██████████| 2901/2901 [00:09<00:00, 319.30it/s]\n"
     ]
    }
   ],
   "source": [
    "group_size_traid = 3\n",
    "triad = get_files(group_size_traid, nob=True)"
   ]
  },
  {
   "cell_type": "code",
   "execution_count": 23,
   "metadata": {},
   "outputs": [],
   "source": [
    "num_replies_triad = NUM_ROUNDS*group_size_traid + 2*group_size_traid"
   ]
  },
  {
   "cell_type": "code",
   "execution_count": 24,
   "metadata": {},
   "outputs": [
    {
     "name": "stdout",
     "output_type": "stream",
     "text": [
      "[TRIAD] Cleaning opinions ...\n"
     ]
    }
   ],
   "source": [
    "print('[TRIAD] Cleaning opinions ...')\n",
    "triad_ = triad.copy()\n",
    "patterns_to_remove = [\n",
    "    (r'\\(.*?\\)', '', True), \n",
    "    (r'\\s*\\([^)]*\\)', '', True), \n",
    "    (r'\\\\boxed\\{(\\d+)\\}', r'\\1', True),\n",
    "    ('**', '', False),\n",
    "    (' out of 7', '', False),\n",
    "    ('.out.of.', '', False), \n",
    "    ('=out=of=7', '', False),\n",
    "    ('\\tout\\tof\\t', '', False),\n",
    "    ('=', '', False),\n",
    "    ('/7', '', False),\n",
    "    ('/ 7', '', False),\n",
    "    (', 7', '', False),\n",
    "    ('\"', '', False),\n",
    "    (\"moral acceptability score:\", '', False),\n",
    "    (\"score:\", '', False),\n",
    "    (\"final answer\", '', False), \n",
    "    (\"final score: \", '', False),\n",
    "    (\"final rating: \", '', False),\n",
    "    (\"agreement rating: \", '', False),\n",
    "    (\"– mostly unacceptable.\", '', False),\n",
    "    (\"– completely unacceptable.\", '', False),\n",
    "    (\": completely unacceptable\", '', False),\n",
    "    (\"– somewhat morally unacceptable\", '', False),\n",
    "    (\"final rating:\", '', False),\n",
    "    (\"final answer\", '', False),\n",
    "    (\"- strongly disagree\", '', False),\n",
    "    (\"– strongly disagree\", '', False),\n",
    "    (\"– completely acceptable\", '', False),\n",
    "    (\"–completely acceptable\", '', False),\n",
    "    (\"—completely acceptable\", '', False),\n",
    "    (\"— completely unacceptable\", '', False),\n",
    "    (\"– completely unacceptable\", '', False),\n",
    "    (\"– somewhat morally acceptable\", '', False),\n",
    "    (\": strongly acceptable\", '', False),\n",
    "    (\"final agreement rating:\", '', False),\n",
    "    (\"score:\", '', False),\n",
    "    (\"– somewhat disagree\", '', False),\n",
    "    (\"– disagree\", '', False),\n",
    "    (\"- morally acceptable\", '', False),\n",
    "    (\"the answer is\", '', False),\n",
    "    (\"— strongly morally acceptable\", '', False)\n",
    "]\n",
    "\n",
    "triad_['opinion'] = triad_['opinion'].astype(str).str.lower()\n",
    "for pattern, repl, is_regex in patterns_to_remove:\n",
    "    triad_['opinion'] = triad_['opinion'].str.replace(pattern, repl, regex=is_regex)\n",
    "\n",
    "triad_['opinion'] = triad_['opinion'].str.strip().str.strip('.')"
   ]
  },
  {
   "cell_type": "code",
   "execution_count": null,
   "metadata": {},
   "outputs": [],
   "source": [
    "with pd.option_context('display.max_rows', None, 'display.max_columns', None):\n",
    "    nan_mask = triad_['opinion'].isna()\n",
    "    conversion_mask = pd.to_numeric(triad_['opinion'], errors='coerce').isna() & ~nan_mask\n",
    "    error_mask = conversion_mask \n",
    "    error_examples = triad_[error_mask]\n",
    "    display(error_examples['opinion'].value_counts())"
   ]
  },
  {
   "cell_type": "code",
   "execution_count": 26,
   "metadata": {},
   "outputs": [],
   "source": [
    "triad = triad_"
   ]
  },
  {
   "cell_type": "code",
   "execution_count": 27,
   "metadata": {},
   "outputs": [],
   "source": [
    "triad = triad[~triad['model'].isin(['gemma3', 'o4-mini'])]"
   ]
  },
  {
   "cell_type": "code",
   "execution_count": 28,
   "metadata": {},
   "outputs": [
    {
     "data": {
      "text/plain": [
       "array(['gemma3:27b', 'gpt-4.1', 'llama3.3', 'qwen2.5:32b-instruct',\n",
       "       'qwen3:32b', 'qwq'], dtype=object)"
      ]
     },
     "execution_count": 28,
     "metadata": {},
     "output_type": "execute_result"
    }
   ],
   "source": [
    "triad['model'].unique()"
   ]
  },
  {
   "cell_type": "code",
   "execution_count": null,
   "metadata": {},
   "outputs": [],
   "source": [
    "triad['type'] = triad.apply(lambda x: datasets_info[(datasets_info['dataset'] == x['dataset']) & (datasets_info['index'] == x['example_index'])]['type'].values[0], axis=1)"
   ]
  },
  {
   "cell_type": "code",
   "execution_count": 30,
   "metadata": {},
   "outputs": [
    {
     "name": "stdout",
     "output_type": "stream",
     "text": [
      "[ TRIAD ]\n"
     ]
    },
    {
     "data": {
      "text/html": [
       "<div>\n",
       "<style scoped>\n",
       "    .dataframe tbody tr th:only-of-type {\n",
       "        vertical-align: middle;\n",
       "    }\n",
       "\n",
       "    .dataframe tbody tr th {\n",
       "        vertical-align: top;\n",
       "    }\n",
       "\n",
       "    .dataframe thead th {\n",
       "        text-align: right;\n",
       "    }\n",
       "</style>\n",
       "<table border=\"1\" class=\"dataframe\">\n",
       "  <thead>\n",
       "    <tr style=\"text-align: right;\">\n",
       "      <th>dataset</th>\n",
       "      <th>cni</th>\n",
       "      <th>greene</th>\n",
       "      <th>keshmirian</th>\n",
       "      <th>korner</th>\n",
       "      <th>oxford_utilitarianism_scale</th>\n",
       "    </tr>\n",
       "    <tr>\n",
       "      <th>model</th>\n",
       "      <th></th>\n",
       "      <th></th>\n",
       "      <th></th>\n",
       "      <th></th>\n",
       "      <th></th>\n",
       "    </tr>\n",
       "  </thead>\n",
       "  <tbody>\n",
       "    <tr>\n",
       "      <th>gemma3:27b</th>\n",
       "      <td>24</td>\n",
       "      <td>64</td>\n",
       "      <td>16</td>\n",
       "      <td>38</td>\n",
       "      <td>9</td>\n",
       "    </tr>\n",
       "    <tr>\n",
       "      <th>gpt-4.1</th>\n",
       "      <td>24</td>\n",
       "      <td>64</td>\n",
       "      <td>16</td>\n",
       "      <td>38</td>\n",
       "      <td>9</td>\n",
       "    </tr>\n",
       "    <tr>\n",
       "      <th>llama3.3</th>\n",
       "      <td>24</td>\n",
       "      <td>64</td>\n",
       "      <td>16</td>\n",
       "      <td>38</td>\n",
       "      <td>9</td>\n",
       "    </tr>\n",
       "    <tr>\n",
       "      <th>qwen2.5:32b-instruct</th>\n",
       "      <td>24</td>\n",
       "      <td>64</td>\n",
       "      <td>16</td>\n",
       "      <td>38</td>\n",
       "      <td>9</td>\n",
       "    </tr>\n",
       "    <tr>\n",
       "      <th>qwen3:32b</th>\n",
       "      <td>24</td>\n",
       "      <td>64</td>\n",
       "      <td>16</td>\n",
       "      <td>38</td>\n",
       "      <td>9</td>\n",
       "    </tr>\n",
       "    <tr>\n",
       "      <th>qwq</th>\n",
       "      <td>24</td>\n",
       "      <td>64</td>\n",
       "      <td>16</td>\n",
       "      <td>38</td>\n",
       "      <td>9</td>\n",
       "    </tr>\n",
       "  </tbody>\n",
       "</table>\n",
       "</div>"
      ],
      "text/plain": [
       "dataset               cni  greene  keshmirian  korner  \\\n",
       "model                                                   \n",
       "gemma3:27b             24      64          16      38   \n",
       "gpt-4.1                24      64          16      38   \n",
       "llama3.3               24      64          16      38   \n",
       "qwen2.5:32b-instruct   24      64          16      38   \n",
       "qwen3:32b              24      64          16      38   \n",
       "qwq                    24      64          16      38   \n",
       "\n",
       "dataset               oxford_utilitarianism_scale  \n",
       "model                                              \n",
       "gemma3:27b                                      9  \n",
       "gpt-4.1                                         9  \n",
       "llama3.3                                        9  \n",
       "qwen2.5:32b-instruct                            9  \n",
       "qwen3:32b                                       9  \n",
       "qwq                                             9  "
      ]
     },
     "metadata": {},
     "output_type": "display_data"
    }
   ],
   "source": [
    "print(\"[ TRIAD ]\")\n",
    "example_counts = triad.groupby('dataset')['model'].value_counts().unstack(fill_value=0).sort_index(level='dataset') \n",
    "with pd.option_context('display.max_rows', None, 'display.max_columns', None):\n",
    "    display((example_counts/num_replies_triad/3).astype(int).T)"
   ]
  },
  {
   "cell_type": "code",
   "execution_count": 31,
   "metadata": {},
   "outputs": [],
   "source": [
    "single.to_csv(f'runs/single.csv', index=False)\n",
    "single_no_message = single.drop(['message', 'reasoning'], axis=1)\n",
    "single_no_message.to_csv('runs/single_no_message.csv', index=False)\n",
    "\n",
    "dyad.to_csv(f'runs/nob_2.csv', index=False)\n",
    "dyad_no_message = dyad.drop(['message', 'reasoning'], axis=1)\n",
    "dyad_no_message.to_csv(f'runs/nob_2_no_message.csv', index=False)\n",
    "\n",
    "triad.to_csv(f'runs/nob_3.csv', index=False)\n",
    "triad_no_message = triad.drop(['message', 'reasoning'], axis=1)\n",
    "triad_no_message.to_csv(f'runs/nob_3_no_message.csv', index=False)"
   ]
  }
 ],
 "metadata": {
  "kernelspec": {
   "display_name": "huggingface",
   "language": "python",
   "name": "python3"
  },
  "language_info": {
   "codemirror_mode": {
    "name": "ipython",
    "version": 3
   },
   "file_extension": ".py",
   "mimetype": "text/x-python",
   "name": "python",
   "nbconvert_exporter": "python",
   "pygments_lexer": "ipython3",
   "version": "3.10.16"
  }
 },
 "nbformat": 4,
 "nbformat_minor": 2
}
